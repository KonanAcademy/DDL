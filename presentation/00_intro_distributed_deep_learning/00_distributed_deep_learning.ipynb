{
 "cells": [
  {
   "cell_type": "markdown",
   "metadata": {},
   "source": [
    "# distributed deep learning 개요"
   ]
  },
  {
   "cell_type": "markdown",
   "metadata": {},
   "source": [
    "* Konan HelloWorld / 분산딥러닝 스터디 [1]\n",
    "* 김무성"
   ]
  },
  {
   "cell_type": "markdown",
   "metadata": {},
   "source": [
    "[1] <font color=\"red\">Toward Scalable Deep Learning</font> - http://mlcenter.postech.ac.kr/files/attach/workshop_fall_2015/%EC%84%9C%EC%9A%B8%EB%8C%80%ED%95%99%EA%B5%90_%EC%9C%A4%EC%84%B1%EB%A1%9C_%EA%B5%90%EC%88%98_v1.pdf"
   ]
  },
  {
   "cell_type": "markdown",
   "metadata": {},
   "source": [
    "# 참고자료\n",
    "* [1] Toward Scalable Deep Learning - http://mlcenter.postech.ac.kr/files/attach/workshop_fall_2015/%EC%84%9C%EC%9A%B8%EB%8C%80%ED%95%99%EA%B5%90_%EC%9C%A4%EC%84%B1%EB%A1%9C_%EA%B5%90%EC%88%98_v1.pdf\n",
    "* [2] Large Scale Distributed Deep Networks - http://www.slideshare.net/HiroyukiVincentYamaz/large-scale-distributed-deep-networks\n",
    "* [3] Large Scale Deep Learning Jeff Dean - http://www.slideshare.net/hustwj/cikm-keynotenov2014\n",
    "* [4] DeepDist : Lightning-Fast Deep Learning on Spark Via parallel stochastic gradient updates - http://deepdist.com/ \n",
    "* [5] Distributed Deep Learning, Part 1: An Introduction to Distributed Training of Neural Networks - http://engineering.skymind.io/distributed-deep-learning-part-1-an-introduction-to-distributed-training-of-neural-networks\n",
    "* [6] Distributed deep learning on Spark - https://www.oreilly.com/learning/distributed-deep-learning-on-spark"
   ]
  }
 ],
 "metadata": {
  "kernelspec": {
   "display_name": "Python 2",
   "language": "python",
   "name": "python2"
  },
  "language_info": {
   "codemirror_mode": {
    "name": "ipython",
    "version": 2
   },
   "file_extension": ".py",
   "mimetype": "text/x-python",
   "name": "python",
   "nbconvert_exporter": "python",
   "pygments_lexer": "ipython2",
   "version": "2.7.6"
  }
 },
 "nbformat": 4,
 "nbformat_minor": 0
}
